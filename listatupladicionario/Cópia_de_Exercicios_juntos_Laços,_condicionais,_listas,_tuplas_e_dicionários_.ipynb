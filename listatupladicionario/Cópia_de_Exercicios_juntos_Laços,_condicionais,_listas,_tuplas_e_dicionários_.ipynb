{
  "nbformat": 4,
  "nbformat_minor": 0,
  "metadata": {
    "colab": {
      "provenance": [],
      "include_colab_link": true
    },
    "kernelspec": {
      "name": "python3",
      "display_name": "Python 3"
    },
    "language_info": {
      "name": "python"
    }
  },
  "cells": [
    {
      "cell_type": "markdown",
      "metadata": {
        "id": "view-in-github",
        "colab_type": "text"
      },
      "source": [
        "<a href=\"https://colab.research.google.com/github/thaisqabe/logicaprogramacaopython/blob/main/listatupladicionario/C%C3%B3pia_de_Exercicios_juntos_La%C3%A7os%2C_condicionais%2C_listas%2C_tuplas_e_dicion%C3%A1rios_.ipynb\" target=\"_parent\"><img src=\"https://colab.research.google.com/assets/colab-badge.svg\" alt=\"Open In Colab\"/></a>"
      ]
    },
    {
      "cell_type": "markdown",
      "source": [
        "Lista de Exercícios unindo tudo que foi ensinado até o momento:\n",
        "\n",
        "\n",
        "*   Condicionais\n",
        "*   Laços de Reptição\n",
        "*   Listas\n",
        "*   Tuplas\n",
        "*   Dicionários\n",
        "*   Manipulação de Strings\n",
        "\n",
        "\n",
        "\n",
        "\n",
        "\n"
      ],
      "metadata": {
        "id": "JsFcwNObBRcd"
      }
    },
    {
      "cell_type": "markdown",
      "source": [
        "# Tuplas - Acesso e Desempacotamento\n",
        "\n",
        "1) Crie uma tupla contendo três tipos diferentes de dados: um número, uma string e uma lista. Use um laço de repetição para acessar e imprimir cada item da tupla. Além disso, dentro do laço, acesse e imprima o segundo item da lista que está dentro da tupla."
      ],
      "metadata": {
        "id": "HM91bKpkBqGI"
      }
    },
    {
      "cell_type": "code",
      "source": [
        "dados = (24, \"Cíntia\",[1,2,3])\n",
        "\n",
        "for i in dados:\n",
        "  print(i)\n",
        "  print(dados[2][1])"
      ],
      "metadata": {
        "colab": {
          "base_uri": "https://localhost:8080/"
        },
        "id": "sCbCOqPVYeRv",
        "outputId": "a9952439-31a5-480d-8afa-663bf21cb76d"
      },
      "execution_count": null,
      "outputs": [
        {
          "output_type": "stream",
          "name": "stdout",
          "text": [
            "24\n",
            "2\n",
            "Cíntia\n",
            "2\n",
            "[1, 2, 3]\n",
            "2\n"
          ]
        }
      ]
    },
    {
      "cell_type": "markdown",
      "source": [
        "# Dicionários - Criação e Acesso\n",
        "## Cadastro de Pessoas e Análise de Alturas\n",
        "2) Solicite ao usuário para inserir o nome e a altura de várias pessoas. Preencha um dicionário com essas informações e depois encontre e imprima o nome e a altura da pessoa mais alta e da mais baixa."
      ],
      "metadata": {
        "id": "6vEHxGtjBxMi"
      }
    },
    {
      "cell_type": "code",
      "source": [
        "alturas=0\n",
        "dicio={}\n",
        "alto=0\n",
        "start=1\n",
        "nomemaior=\"\"\n",
        "baixo=99999\n",
        "\n",
        "while start == 1:\n",
        "\n",
        "  alturas=int(input(\"Digite a altura da pessoa em cm: \"))\n",
        "\n",
        "  nome=str(input(\"Digite o nome da pessoa: \"))\n",
        "\n",
        "  start=int(input(\"Digite 1 para continuar e 0 para ver o resultado. \"))\n",
        "\n",
        "  dicio[nome]=alturas\n",
        "\n",
        "  if alto < alturas:\n",
        "    alto=alturas\n",
        "    nomemaior= nome\n",
        "\n",
        "  if baixo > alturas:\n",
        "    baixo=alturas\n",
        "    nomemenor=nome\n",
        "\n",
        "print(f\"A altura da pessoa mais baixa é {baixo}, o nome da pessoa mais baixa é {nomemenor}\")\n",
        "print(f\"A altura da pessoa mais alta é {alto}, o nome da pessoa mais alta é {nomemaior}\")\n"
      ],
      "metadata": {
        "id": "MpJYauvTZR69",
        "colab": {
          "base_uri": "https://localhost:8080/"
        },
        "outputId": "8883e228-ed7f-4f28-da87-f2c8e6438745"
      },
      "execution_count": 24,
      "outputs": [
        {
          "output_type": "stream",
          "name": "stdout",
          "text": [
            "Digite a altura da pessoa em cm: 145\n",
            "Digite o nome da pessoa: lua\n",
            "Digite 1 para continuar e 0 para ver o resultado. 1\n",
            "Digite a altura da pessoa em cm: 156\n",
            "Digite o nome da pessoa: sol\n",
            "Digite 1 para continuar e 0 para ver o resultado. 1\n",
            "Digite a altura da pessoa em cm: 179\n",
            "Digite o nome da pessoa: estrela\n",
            "Digite 1 para continuar e 0 para ver o resultado. 0\n",
            "A altura da pessoa mais baixa é 145, o nome da pessoa mais baixa é lua\n",
            "A altura da pessoa mais alta é 179, o nome da pessoa mais alta é estrela\n"
          ]
        }
      ]
    },
    {
      "cell_type": "code",
      "source": [
        "dicio"
      ],
      "metadata": {
        "colab": {
          "base_uri": "https://localhost:8080/"
        },
        "id": "eP7238wgTZAf",
        "outputId": "5e99add1-7548-4a99-955d-8c934823cbe2"
      },
      "execution_count": 14,
      "outputs": [
        {
          "output_type": "execute_result",
          "data": {
            "text/plain": [
              "{'tg': 45, '       vd': 23}"
            ]
          },
          "metadata": {},
          "execution_count": 14
        }
      ]
    },
    {
      "cell_type": "markdown",
      "source": [
        "# Lista, laços e Condicionais\n",
        "3) Descrição: Crie uma listacom cinco números inteiros. Use um laço de repetição e uma condicional para imprimir apenas os números que são múltiplos de 3."
      ],
      "metadata": {
        "id": "FytD4QZyELAt"
      }
    },
    {
      "cell_type": "code",
      "source": [
        "lista=[2,3,18,4,21]\n",
        "\n",
        "for i in lista:\n",
        "  if i%3==0:\n",
        "    print(i)"
      ],
      "metadata": {
        "colab": {
          "base_uri": "https://localhost:8080/"
        },
        "id": "OwL1uQeac8zN",
        "outputId": "fbf27301-205f-4823-fece-b41ebc678939"
      },
      "execution_count": null,
      "outputs": [
        {
          "output_type": "stream",
          "name": "stdout",
          "text": [
            "3\n",
            "18\n",
            "21\n"
          ]
        }
      ]
    },
    {
      "cell_type": "markdown",
      "source": [
        "# Manipulação de Strings e Condicionais\n",
        "4) Descrição: Crie uma string com uma frase. Use uma condicional para verificar se a frase contém a palavra \"Python\". Se sim, substitua a palavra \"Python\" por \"programação\" e imprima a nova frase."
      ],
      "metadata": {
        "id": "hwn3Fz8aEYSH"
      }
    },
    {
      "cell_type": "code",
      "source": [
        "string=\"eu amo Python\"\n",
        "\n",
        "if string == \"Python\":\n",
        "  frase=string.replace(\"Python\", \"programação\")\n",
        "\n",
        "print(frase)"
      ],
      "metadata": {
        "colab": {
          "base_uri": "https://localhost:8080/"
        },
        "id": "wiNHwg-GdfHI",
        "outputId": "c04d5089-491b-4264-8048-31a662fc11fe"
      },
      "execution_count": null,
      "outputs": [
        {
          "output_type": "stream",
          "name": "stdout",
          "text": [
            "eu amo programação\n"
          ]
        }
      ]
    },
    {
      "cell_type": "markdown",
      "source": [
        "# Simulação de Alfândega com Cadastro Dinâmico de Itens usando dicionário\n",
        "5) Simule uma situação de alfândega onde o funcionário cadastra itens novos encontrados na mala de uma pessoa que veio de uma viagem internacional. Após o cadastro de todos os itens, o programa imprime uma nota com todos os itens e seus preços, calcula o valor total e, se o valor total ultrapassar 500 dólares, calcula o valor de 60% a ser pago."
      ],
      "metadata": {
        "id": "hPP-JNTxEwFT"
      }
    },
    {
      "cell_type": "code",
      "source": [
        "fim=1\n",
        "dici={}\n",
        "total=0\n",
        "multa=0\n",
        "while fim==1:\n",
        "  itens=str(input(\"Digite o item: \"))\n",
        "  preco=float(input(\"Digite o preço do item em dólares: \"))\n",
        "  dici[itens] = preco\n",
        "  total=preco+total\n",
        "  fim=int(input(\"Digite 1 caso tenha mais itens, 2 para finalizar: \"))\n",
        "  if total>500:\n",
        "    multa=(total*60)/100\n",
        "\n",
        "print(f\"A nota dos itens: {dici}\")\n",
        "print(f\"A multa será de {multa} dólares\")"
      ],
      "metadata": {
        "colab": {
          "base_uri": "https://localhost:8080/"
        },
        "id": "A7vMXm8Jg0EU",
        "outputId": "7811bdab-c77b-4730-a6c4-20e2daf2013e"
      },
      "execution_count": null,
      "outputs": [
        {
          "output_type": "stream",
          "name": "stdout",
          "text": [
            "Digite o item: celular\n",
            "Digite o preço do item: 300\n",
            "Digite 1 caso tenha mais itens, 2 para finalizar: 1\n",
            "Digite o item: chave\n",
            "Digite o preço do item: 20\n",
            "Digite 1 caso tenha mais itens, 2 para finalizar: 1\n",
            "Digite o item: tablet\n",
            "Digite o preço do item: 200\n",
            "Digite 1 caso tenha mais itens, 2 para finalizar: 2\n",
            "a nota dos itens: {'celular': 300.0, 'chave': 20.0, 'tablet': 200.0}\n",
            "A multa será de 312.0\n"
          ]
        }
      ]
    },
    {
      "cell_type": "markdown",
      "source": [
        "# Identificação de Palavras Negativas em um Texto\n",
        "6) Você vai criar um programa em Python para analisar um texto e identificar palavras que expressam pensamentos negativos. Para isso, você usará uma lista de palavras negativas fornecida e verificará quais dessas palavras estão presentes no texto fornecido pelo usuário. Exemplo de palavras negtivas, acrescente mais na lista: # Lista de palavras negativas palavras_negativas = ['triste', 'deprimido', 'ansioso', 'desapontado', 'frustrado']"
      ],
      "metadata": {
        "id": "OH8D047zVsp-"
      }
    },
    {
      "cell_type": "code",
      "source": [
        "palavras_negativas = ['triste', 'deprimido', 'ansioso', 'desapontado', 'frustrado']\n",
        "\n",
        "texto = input(\"Digite como está se sentindo: \")\n",
        "\n",
        "for i in palavras_negativas:\n",
        "  if i in texto:\n",
        "    print(f\"Seu texto contém a palavra {i}\")\n",
        "\n",
        "\n"
      ],
      "metadata": {
        "id": "xDSrYWf_Vr8G",
        "colab": {
          "base_uri": "https://localhost:8080/"
        },
        "outputId": "5ed71540-b70e-4910-e4a3-33ac6e2b6c4e"
      },
      "execution_count": null,
      "outputs": [
        {
          "name": "stdout",
          "output_type": "stream",
          "text": [
            "Digite como está se sentindo: feliz alegre\n"
          ]
        }
      ]
    }
  ]
}